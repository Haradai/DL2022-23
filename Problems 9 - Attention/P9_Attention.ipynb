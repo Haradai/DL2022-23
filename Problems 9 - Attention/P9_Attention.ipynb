{
  "cells": [
    {
      "cell_type": "markdown",
      "metadata": {
        "id": "-JGr-h1xvTOZ"
      },
      "source": [
        "# MNIST Simple Pointer Network\n",
        "\n",
        "In this notebook we will learn how to create a simple [Pointer Network](https://arxiv.org/abs/1506.03134) (Vinyals et al. 2015) for solving a dummy task on the MNIST dataset.\n",
        "\n",
        "A Pointer Network uses the **attention mechanism’s** output to model the conditional probability of each element on its input. This can be extremely useful in tasks that require selecting one (or more) elements of the input sequence/set to be solved.\n",
        "\n",
        "In this notebook we will play with a simple Pointer net to solve the following task: Given an MNIST image with a (query) digit we want our model to find the image that contains the consecutive digit to the query image among a set of input images. For example, imagine we use an image with the digit \"5\" as query and let the input of the model be a set of 10 images with different digits, the output of our model must be a probability distribution over those 10 images indicating the presence or not of the digit \"6\" in each of them."
      ]
    },
    {
      "cell_type": "code",
      "execution_count": null,
      "metadata": {
        "colab": {
          "base_uri": "https://localhost:8080/"
        },
        "id": "h4Z7-Wm7_5K6",
        "outputId": "789ea1c2-f5ce-47cb-af76-6aa2992d9257"
      },
      "outputs": [
        {
          "output_type": "stream",
          "name": "stdout",
          "text": [
            "PyTorch Version:  2.0.0+cu118\n"
          ]
        }
      ],
      "source": [
        "import torch\n",
        "import torchvision\n",
        "import torch.nn as nn\n",
        "import torch.optim as optim\n",
        "import numpy as np\n",
        "from torch.utils.data import Dataset, DataLoader\n",
        "\n",
        "import matplotlib.pyplot as plt\n",
        "from collections import Counter\n",
        "import time\n",
        "import os\n",
        "import copy\n",
        "print(\"PyTorch Version: \",torch.__version__)"
      ]
    },
    {
      "cell_type": "code",
      "execution_count": null,
      "metadata": {
        "id": "RNJh2q4lQGYF",
        "colab": {
          "base_uri": "https://localhost:8080/"
        },
        "outputId": "6ecbcc7a-433e-4818-e923-009c49004576"
      },
      "outputs": [
        {
          "output_type": "stream",
          "name": "stdout",
          "text": [
            "Using device: cuda\n"
          ]
        }
      ],
      "source": [
        "#If this cell fails you need to change the runtime of your colab notebook to GPU\n",
        "# Go to Runtime -> Change Runtime Type and select GPU\n",
        "assert torch.cuda.is_available() or torch.has_mps, \"GPU is not enabled\"\n",
        "\n",
        "#  use gpu if available\n",
        "device = torch.device(\"cuda\" if torch.cuda.is_available() else \"mps\")\n",
        "print(\"Using device:\", device)"
      ]
    },
    {
      "cell_type": "markdown",
      "metadata": {
        "id": "CyM0DXter9Mp"
      },
      "source": [
        "### Create the dataset\n",
        "\n",
        "Let's start creating a Dataset class to understand better the task we want to solve. Each sample in out dataset will be formed by:\n",
        "\n",
        "* a query image\n",
        "* a set of 10 images, 9 of them selected randomly (distractors) and one selected as the consecutive digit of the digit in the query image.\n",
        "* the ground truth: a 10-D one hot vector indicating the position of the image we want our model to select (\"point to\")."
      ]
    },
    {
      "cell_type": "code",
      "execution_count": null,
      "metadata": {
        "id": "XksdVS7GHWw0"
      },
      "outputs": [],
      "source": [
        "class MNISTAttentionDataset(Dataset):\n",
        "    \"\"\"MNIST attention toy dataset.\"\"\"\n",
        "\n",
        "    def __init__(self, num_inputs, train=True):\n",
        "        \"\"\"\n",
        "        Args:\n",
        "            num_inputs (int) - The number of images in the input of our model.\n",
        "            train (bool, optional) – If True, creates dataset from MNIST training\n",
        "                samples, otherwise from test\n",
        "        \"\"\"\n",
        "        \n",
        "        self.num_inputs = num_inputs\n",
        "        self.mnist = torchvision.datasets.MNIST('../data', train=train, download=True)\n",
        "        \n",
        "        # dict with samples for each class label\n",
        "        self.data = {}\n",
        "        for label in range(10):\n",
        "            #Collect in separate lists the different digits, and normalise values to [0, 1]\n",
        "            self.data[label] = self.mnist.data[self.mnist.targets == label] / 255.0\n",
        "\n",
        "        \n",
        "\n",
        "    def __len__(self):\n",
        "        # The length makes little sense here, as we generate samples dynamically\n",
        "        # Here we return the number of images originally in the dataset\n",
        "        return self.mnist.data.shape[0]\n",
        "\n",
        "    def __getitem__(self, idx):\n",
        "        \"\"\"\n",
        "        Args:\n",
        "            idx (int) - an index indicating which digit should be used as query\n",
        "        \"\"\"\n",
        "        c = self.mnist.targets[idx].item()     # Find out which is the class of the digit requested\n",
        "        query = self.mnist.data[idx].flatten() # Get the data for the digit requested\n",
        "\n",
        "        correct_pos = np.random.randint(0, self.num_inputs) # Decide on a random position where the correct answer will be\n",
        "        \n",
        "        inputs = np.zeros((self.num_inputs, 784)) # Create an array to hold the inputs (from which we have to select one)\n",
        "        for j in range(self.num_inputs):\n",
        "            if j == correct_pos: # In the correct position, place a random digit that comes from the c+1 class\n",
        "                idx = np.random.randint(0,self.data[(c+1)%10].shape[0])\n",
        "                inputs[j,:] = self.data[(c+1)%10][idx,:].flatten()\n",
        "            else: # In the rest of the positions, place random digits that come from the rest of the classes\n",
        "                c_distractor = np.random.choice([n for n in [0,1,2,3,4,5,6,7,8,9] if n!=(c+1)%10])\n",
        "                idx = np.random.randint(0,self.data[c_distractor].shape[0])\n",
        "                inputs[j,:] = self.data[c_distractor][idx,:].flatten()\n",
        "            \n",
        "        sample = {'x': inputs, 'query': query, 'y': correct_pos}\n",
        "\n",
        "        return sample"
      ]
    },
    {
      "cell_type": "code",
      "execution_count": null,
      "metadata": {
        "id": "hL2kwN-kpjUc",
        "colab": {
          "base_uri": "https://localhost:8080/"
        },
        "outputId": "8ce53bc1-f901-4b28-8682-c5a2f1b5ccd9"
      },
      "outputs": [
        {
          "output_type": "stream",
          "name": "stdout",
          "text": [
            "Downloading http://yann.lecun.com/exdb/mnist/train-images-idx3-ubyte.gz\n",
            "Downloading http://yann.lecun.com/exdb/mnist/train-images-idx3-ubyte.gz to ../data/MNIST/raw/train-images-idx3-ubyte.gz\n"
          ]
        },
        {
          "output_type": "stream",
          "name": "stderr",
          "text": [
            "100%|██████████| 9912422/9912422 [00:00<00:00, 295657912.01it/s]"
          ]
        },
        {
          "output_type": "stream",
          "name": "stdout",
          "text": [
            "Extracting ../data/MNIST/raw/train-images-idx3-ubyte.gz to ../data/MNIST/raw\n"
          ]
        },
        {
          "output_type": "stream",
          "name": "stderr",
          "text": [
            "\n"
          ]
        },
        {
          "output_type": "stream",
          "name": "stdout",
          "text": [
            "\n",
            "Downloading http://yann.lecun.com/exdb/mnist/train-labels-idx1-ubyte.gz\n",
            "Downloading http://yann.lecun.com/exdb/mnist/train-labels-idx1-ubyte.gz to ../data/MNIST/raw/train-labels-idx1-ubyte.gz\n"
          ]
        },
        {
          "output_type": "stream",
          "name": "stderr",
          "text": [
            "100%|██████████| 28881/28881 [00:00<00:00, 24868752.58it/s]\n"
          ]
        },
        {
          "output_type": "stream",
          "name": "stdout",
          "text": [
            "Extracting ../data/MNIST/raw/train-labels-idx1-ubyte.gz to ../data/MNIST/raw\n",
            "\n",
            "Downloading http://yann.lecun.com/exdb/mnist/t10k-images-idx3-ubyte.gz\n",
            "Downloading http://yann.lecun.com/exdb/mnist/t10k-images-idx3-ubyte.gz to ../data/MNIST/raw/t10k-images-idx3-ubyte.gz\n"
          ]
        },
        {
          "output_type": "stream",
          "name": "stderr",
          "text": [
            "100%|██████████| 1648877/1648877 [00:00<00:00, 125517548.35it/s]"
          ]
        },
        {
          "output_type": "stream",
          "name": "stdout",
          "text": [
            "Extracting ../data/MNIST/raw/t10k-images-idx3-ubyte.gz to ../data/MNIST/raw\n"
          ]
        },
        {
          "output_type": "stream",
          "name": "stderr",
          "text": [
            "\n"
          ]
        },
        {
          "output_type": "stream",
          "name": "stdout",
          "text": [
            "\n",
            "Downloading http://yann.lecun.com/exdb/mnist/t10k-labels-idx1-ubyte.gz\n",
            "Downloading http://yann.lecun.com/exdb/mnist/t10k-labels-idx1-ubyte.gz to ../data/MNIST/raw/t10k-labels-idx1-ubyte.gz\n"
          ]
        },
        {
          "output_type": "stream",
          "name": "stderr",
          "text": [
            "100%|██████████| 4542/4542 [00:00<00:00, 588415.15it/s]\n"
          ]
        },
        {
          "output_type": "stream",
          "name": "stdout",
          "text": [
            "Extracting ../data/MNIST/raw/t10k-labels-idx1-ubyte.gz to ../data/MNIST/raw\n",
            "\n"
          ]
        }
      ],
      "source": [
        "num_inputs = 10\n",
        "\n",
        "train_dataset = MNISTAttentionDataset(num_inputs, train=True)\n",
        "test_dataset = MNISTAttentionDataset(num_inputs, train=False)\n",
        "\n",
        "train_loader = DataLoader(train_dataset, batch_size = 64, shuffle = True)\n",
        "test_loader  = DataLoader(test_dataset, batch_size = 1000, shuffle = True)"
      ]
    },
    {
      "cell_type": "markdown",
      "metadata": {
        "id": "RES5R0CMr3bE"
      },
      "source": [
        "### Visualize one training sample"
      ]
    },
    {
      "cell_type": "code",
      "execution_count": null,
      "metadata": {
        "colab": {
          "base_uri": "https://localhost:8080/",
          "height": 93
        },
        "id": "fJY6zR_lqR41",
        "outputId": "8b329817-3e2d-4991-887c-9c1d2e0e3e08"
      },
      "outputs": [
        {
          "output_type": "stream",
          "name": "stdout",
          "text": [
            "Data: (10, 784), Query: torch.Size([784])\n"
          ]
        },
        {
          "output_type": "display_data",
          "data": {
            "text/plain": [
              "<Figure size 3300x300 with 11 Axes>"
            ],
            "image/png": "[encoded data removed]"
          },
          "metadata": {}
        }
      ],
      "source": [
        "sample = train_dataset[0]\n",
        "\n",
        "print(f\"Data: {sample['x'].shape}, Query: {sample['query'].shape}\")\n",
        "\n",
        "fig = plt.figure(figsize=(33, 3))\n",
        "plt.tight_layout()\n",
        "\n",
        "ax = plt.subplot(1, num_inputs + 1, 1)\n",
        "image = sample['query'].reshape(28,28)\n",
        "plt.imshow(image, cmap='gray')\n",
        "plt.plot([0,27,27,0,0], [0,0,27,27,0], c='b') # Draw a blue box around the query sample\n",
        "ax.set_title('Query')\n",
        "ax.axis('off')\n",
        "\n",
        "for i in range(num_inputs):\n",
        "    ax = plt.subplot(1, num_inputs + 1, i+2)\n",
        "    ax.set_title('Sample #{}'.format(i))\n",
        "    ax.axis('off')\n",
        "    image = sample['x'][i].reshape(28,28)\n",
        "    plt.imshow(image, cmap='gray')\n",
        "    if i == sample['y']:\n",
        "        plt.plot([0,27,27,0,0], [0,0,27,27,0], c='g') # Draw a green box around the correct sample\n",
        "        ax.set_title('Target')\n",
        "    else:\n",
        "        plt.plot([0,27,27,0,0], [0,0,27,27,0], c='r') # Draw a blue box around the wrong sample\n",
        "        ax.set_title('Distractor #{}'.format(i))\n",
        "    ax.axis('off')\n",
        "\n",
        "plt.show()"
      ]
    },
    {
      "cell_type": "markdown",
      "metadata": {
        "id": "DVaMM-n2sFF6"
      },
      "source": [
        "### Create the model"
      ]
    },
    {
      "cell_type": "code",
      "execution_count": null,
      "metadata": {
        "id": "BesD8B1BAW9u"
      },
      "outputs": [],
      "source": [
        "class AttentionModel(nn.Module):\n",
        "    def __init__(self, input_dim, num_inputs, hidden_dim):\n",
        "        super(AttentionModel, self).__init__()\n",
        "        self.hidden_dim = hidden_dim\n",
        "        self.num_inputs = num_inputs\n",
        "        self.input_dim  = input_dim\n",
        "\n",
        "        # Weights (Fully Connected layers) \n",
        "        self.fc_q = nn.Linear(input_dim, hidden_dim) # Query FC\n",
        "        self.fc_k = nn.Linear(input_dim, hidden_dim) # Keys FC. Here the input acts as the keys, and there is no value\n",
        "        self.fc_v = nn.Linear(hidden_dim, 1) # Values FC\n",
        "\n",
        "    def scoringAdditive(self, query, keys):\n",
        "        # Query is                                              (B X 1 X input_dim)\n",
        "        # Repeat (tile) the query so that it has the same size as the keys (input)\n",
        "        query = query.repeat(1, self.num_inputs, 1)           # (B X num_inputs X input_dim)\n",
        "        query = torch.tanh(self.fc_q(query))                  # (B X num_inputs X hidden_dim)\n",
        "\n",
        "        # Keys is                                               (B X num_inputs X input_dim)\n",
        "        keys = torch.tanh(self.fc_k(keys))                    # (B X num_inputs X hidden_dim)\n",
        "        \n",
        "        # Attention Score  (additive attention!)\n",
        "        score = torch.tanh(query + keys )                     # (B X num_inputs X hidden_dim)\n",
        "        score = self.fc_v(score)                              # (B X num_inputs X 1)        \n",
        "        return score\n",
        "\n",
        "    def forward(self, x, query):\n",
        "        query = query.unsqueeze(1) # (B x input_dim) -> (B x 1 x input_dim)\n",
        "        \n",
        "        # Calculate attention scores\n",
        "        output = self.scoringAdditive(query, x)\n",
        "        output = output.squeeze()       # (B x 1 x num_inputs) -> (B x num_inputs)\n",
        "        return output"
      ]
    },
    {
      "cell_type": "markdown",
      "metadata": {
        "id": "y_yCyvgg9Pbj"
      },
      "source": [
        "<font color=\"blue\">\n",
        "\n",
        "**QUESTION**: The Additive score gives logits that we should pass through a softmax to get the final attention weights. Why is there no softmax in the model above?</font>"
      ]
    },
    {
      "cell_type": "markdown",
      "metadata": {
        "id": "czQYdt9fI95F"
      },
      "source": [
        "---\n",
        "    \n",
        "**ANSWER**: \n",
        "\n",
        "---"
      ]
    },
    {
      "cell_type": "code",
      "execution_count": null,
      "metadata": {
        "colab": {
          "base_uri": "https://localhost:8080/"
        },
        "id": "nsyUZE0lHJ5-",
        "outputId": "38a93877-f400-43dd-9412-ed9b3f9f1459"
      },
      "outputs": [
        {
          "output_type": "stream",
          "name": "stdout",
          "text": [
            "AttentionModel(\n",
            "  (fc_q): Linear(in_features=784, out_features=256, bias=True)\n",
            "  (fc_k): Linear(in_features=784, out_features=256, bias=True)\n",
            "  (fc_v): Linear(in_features=256, out_features=1, bias=True)\n",
            ")\n"
          ]
        }
      ],
      "source": [
        "input_dim, num_inputs, hidden_dim = (784, 10, 256)\n",
        "\n",
        "model = AttentionModel(input_dim, num_inputs, hidden_dim)\n",
        "print(model)"
      ]
    },
    {
      "cell_type": "markdown",
      "metadata": {
        "id": "xmp0kuk2z3Rx"
      },
      "source": [
        "### Define the training method and train"
      ]
    },
    {
      "cell_type": "code",
      "execution_count": null,
      "metadata": {
        "id": "6ZvGWqwDrc-V"
      },
      "outputs": [],
      "source": [
        "def train(model, device, train_loader, criterion, optimizer, epoch, log_interval = 100):\n",
        "    # Method to perform one epoch of training\n",
        "    model.train()\n",
        "    loss_values = []\n",
        "    \n",
        "    for batch_idx, sample_batched in enumerate(train_loader):\n",
        "        data = sample_batched['x'].float()\n",
        "        query = sample_batched['query'].float()\n",
        "        target = sample_batched['y']\n",
        "        #print(data.shape, query.shape)\n",
        "        data, query, target = data.to(device), query.to(device), target.to(device)\n",
        "        \n",
        "        optimizer.zero_grad()\n",
        "        output = model(data, query)\n",
        "        loss = criterion(output, target)\n",
        "        loss.backward()\n",
        "        optimizer.step()\n",
        "        \n",
        "        loss_values.append(loss.detach().cpu().item())        \n",
        "        if batch_idx % log_interval == 0:\n",
        "            print('Train Epoch: {} [{}/{} ({:.0f}%)]\\tLoss: {:.6f}'.format(\n",
        "                epoch, batch_idx * len(data), len(train_loader.dataset),\n",
        "                100. * batch_idx / len(train_loader), loss.item()))\n",
        "        \n",
        "    return loss_values"
      ]
    },
    {
      "cell_type": "code",
      "execution_count": null,
      "metadata": {
        "colab": {
          "base_uri": "https://localhost:8080/"
        },
        "id": "L_ZTvDKRz9yx",
        "outputId": "8e6949c4-2497-491b-9cca-bd78cd7c8107"
      },
      "outputs": [
        {
          "output_type": "stream",
          "name": "stdout",
          "text": [
            "Train Epoch: 1 [0/60000 (0%)]\tLoss: 2.304850\n",
            "Train Epoch: 1 [6400/60000 (11%)]\tLoss: 2.240803\n",
            "Train Epoch: 1 [12800/60000 (21%)]\tLoss: 2.078908\n",
            "Train Epoch: 1 [19200/60000 (32%)]\tLoss: 1.998499\n",
            "Train Epoch: 1 [25600/60000 (43%)]\tLoss: 1.784551\n",
            "Train Epoch: 1 [32000/60000 (53%)]\tLoss: 1.669522\n",
            "Train Epoch: 1 [38400/60000 (64%)]\tLoss: 1.561777\n",
            "Train Epoch: 1 [44800/60000 (75%)]\tLoss: 1.628936\n",
            "Train Epoch: 1 [51200/60000 (85%)]\tLoss: 1.660024\n",
            "Train Epoch: 1 [57600/60000 (96%)]\tLoss: 1.475455\n",
            "Train Epoch: 2 [0/60000 (0%)]\tLoss: 1.372128\n",
            "Train Epoch: 2 [6400/60000 (11%)]\tLoss: 1.203325\n",
            "Train Epoch: 2 [12800/60000 (21%)]\tLoss: 1.344575\n",
            "Train Epoch: 2 [19200/60000 (32%)]\tLoss: 1.278467\n",
            "Train Epoch: 2 [25600/60000 (43%)]\tLoss: 1.236460\n",
            "Train Epoch: 2 [32000/60000 (53%)]\tLoss: 1.129185\n",
            "Train Epoch: 2 [38400/60000 (64%)]\tLoss: 1.217999\n",
            "Train Epoch: 2 [44800/60000 (75%)]\tLoss: 1.131975\n",
            "Train Epoch: 2 [51200/60000 (85%)]\tLoss: 1.107486\n",
            "Train Epoch: 2 [57600/60000 (96%)]\tLoss: 1.038579\n",
            "Train Epoch: 3 [0/60000 (0%)]\tLoss: 1.184057\n",
            "Train Epoch: 3 [6400/60000 (11%)]\tLoss: 1.222993\n",
            "Train Epoch: 3 [12800/60000 (21%)]\tLoss: 1.052494\n",
            "Train Epoch: 3 [19200/60000 (32%)]\tLoss: 0.985335\n",
            "Train Epoch: 3 [25600/60000 (43%)]\tLoss: 1.141255\n",
            "Train Epoch: 3 [32000/60000 (53%)]\tLoss: 1.095274\n",
            "Train Epoch: 3 [38400/60000 (64%)]\tLoss: 1.129108\n",
            "Train Epoch: 3 [44800/60000 (75%)]\tLoss: 1.036723\n",
            "Train Epoch: 3 [51200/60000 (85%)]\tLoss: 0.913120\n",
            "Train Epoch: 3 [57600/60000 (96%)]\tLoss: 1.023398\n",
            "Train Epoch: 4 [0/60000 (0%)]\tLoss: 1.067783\n",
            "Train Epoch: 4 [6400/60000 (11%)]\tLoss: 1.120400\n",
            "Train Epoch: 4 [12800/60000 (21%)]\tLoss: 0.850086\n",
            "Train Epoch: 4 [19200/60000 (32%)]\tLoss: 1.008840\n",
            "Train Epoch: 4 [25600/60000 (43%)]\tLoss: 0.992987\n",
            "Train Epoch: 4 [32000/60000 (53%)]\tLoss: 1.013259\n",
            "Train Epoch: 4 [38400/60000 (64%)]\tLoss: 0.964445\n",
            "Train Epoch: 4 [44800/60000 (75%)]\tLoss: 0.936696\n",
            "Train Epoch: 4 [51200/60000 (85%)]\tLoss: 1.068476\n",
            "Train Epoch: 4 [57600/60000 (96%)]\tLoss: 1.041823\n",
            "Train Epoch: 5 [0/60000 (0%)]\tLoss: 1.073735\n",
            "Train Epoch: 5 [6400/60000 (11%)]\tLoss: 1.003914\n",
            "Train Epoch: 5 [12800/60000 (21%)]\tLoss: 0.652519\n",
            "Train Epoch: 5 [19200/60000 (32%)]\tLoss: 1.040506\n",
            "Train Epoch: 5 [25600/60000 (43%)]\tLoss: 0.776658\n",
            "Train Epoch: 5 [32000/60000 (53%)]\tLoss: 1.006085\n",
            "Train Epoch: 5 [38400/60000 (64%)]\tLoss: 0.770123\n",
            "Train Epoch: 5 [44800/60000 (75%)]\tLoss: 1.053563\n",
            "Train Epoch: 5 [51200/60000 (85%)]\tLoss: 0.794763\n",
            "Train Epoch: 5 [57600/60000 (96%)]\tLoss: 0.753124\n",
            "Train Epoch: 6 [0/60000 (0%)]\tLoss: 1.042628\n",
            "Train Epoch: 6 [6400/60000 (11%)]\tLoss: 1.042794\n",
            "Train Epoch: 6 [12800/60000 (21%)]\tLoss: 0.937761\n",
            "Train Epoch: 6 [19200/60000 (32%)]\tLoss: 0.763881\n",
            "Train Epoch: 6 [25600/60000 (43%)]\tLoss: 0.671706\n",
            "Train Epoch: 6 [32000/60000 (53%)]\tLoss: 0.756646\n",
            "Train Epoch: 6 [38400/60000 (64%)]\tLoss: 0.826115\n",
            "Train Epoch: 6 [44800/60000 (75%)]\tLoss: 0.975647\n",
            "Train Epoch: 6 [51200/60000 (85%)]\tLoss: 0.817957\n",
            "Train Epoch: 6 [57600/60000 (96%)]\tLoss: 0.786476\n",
            "Train Epoch: 7 [0/60000 (0%)]\tLoss: 0.728624\n",
            "Train Epoch: 7 [6400/60000 (11%)]\tLoss: 0.759334\n",
            "Train Epoch: 7 [12800/60000 (21%)]\tLoss: 0.883464\n",
            "Train Epoch: 7 [19200/60000 (32%)]\tLoss: 0.746893\n",
            "Train Epoch: 7 [25600/60000 (43%)]\tLoss: 0.895470\n",
            "Train Epoch: 7 [32000/60000 (53%)]\tLoss: 0.799736\n",
            "Train Epoch: 7 [38400/60000 (64%)]\tLoss: 0.729727\n",
            "Train Epoch: 7 [44800/60000 (75%)]\tLoss: 0.922009\n",
            "Train Epoch: 7 [51200/60000 (85%)]\tLoss: 0.922780\n",
            "Train Epoch: 7 [57600/60000 (96%)]\tLoss: 0.830925\n",
            "Train Epoch: 8 [0/60000 (0%)]\tLoss: 0.613364\n",
            "Train Epoch: 8 [6400/60000 (11%)]\tLoss: 0.665611\n",
            "Train Epoch: 8 [12800/60000 (21%)]\tLoss: 0.776839\n",
            "Train Epoch: 8 [19200/60000 (32%)]\tLoss: 0.969375\n",
            "Train Epoch: 8 [25600/60000 (43%)]\tLoss: 1.036265\n",
            "Train Epoch: 8 [32000/60000 (53%)]\tLoss: 0.736651\n",
            "Train Epoch: 8 [38400/60000 (64%)]\tLoss: 0.793455\n",
            "Train Epoch: 8 [44800/60000 (75%)]\tLoss: 0.802466\n",
            "Train Epoch: 8 [51200/60000 (85%)]\tLoss: 0.805836\n",
            "Train Epoch: 8 [57600/60000 (96%)]\tLoss: 0.769068\n",
            "Train Epoch: 9 [0/60000 (0%)]\tLoss: 0.773783\n",
            "Train Epoch: 9 [6400/60000 (11%)]\tLoss: 0.639249\n",
            "Train Epoch: 9 [12800/60000 (21%)]\tLoss: 0.726755\n",
            "Train Epoch: 9 [19200/60000 (32%)]\tLoss: 0.585375\n",
            "Train Epoch: 9 [25600/60000 (43%)]\tLoss: 0.674567\n",
            "Train Epoch: 9 [32000/60000 (53%)]\tLoss: 1.121038\n",
            "Train Epoch: 9 [38400/60000 (64%)]\tLoss: 0.971184\n",
            "Train Epoch: 9 [44800/60000 (75%)]\tLoss: 0.682652\n",
            "Train Epoch: 9 [51200/60000 (85%)]\tLoss: 0.600779\n",
            "Train Epoch: 9 [57600/60000 (96%)]\tLoss: 0.590633\n",
            "Train Epoch: 10 [0/60000 (0%)]\tLoss: 0.822802\n",
            "Train Epoch: 10 [6400/60000 (11%)]\tLoss: 0.842581\n",
            "Train Epoch: 10 [12800/60000 (21%)]\tLoss: 0.710525\n",
            "Train Epoch: 10 [19200/60000 (32%)]\tLoss: 0.985876\n",
            "Train Epoch: 10 [25600/60000 (43%)]\tLoss: 0.773863\n",
            "Train Epoch: 10 [32000/60000 (53%)]\tLoss: 0.507302\n",
            "Train Epoch: 10 [38400/60000 (64%)]\tLoss: 0.760841\n",
            "Train Epoch: 10 [44800/60000 (75%)]\tLoss: 0.693530\n",
            "Train Epoch: 10 [51200/60000 (85%)]\tLoss: 0.689531\n",
            "Train Epoch: 10 [57600/60000 (96%)]\tLoss: 0.606258\n"
          ]
        }
      ],
      "source": [
        "model = model.to(device)\n",
        "\n",
        "optimizer = optim.Adam(model.parameters())\n",
        "\n",
        "criterion = nn.CrossEntropyLoss()\n",
        "\n",
        "epochs = 10\n",
        "\n",
        "loss_history = []\n",
        "for epoch in range(1, epochs + 1):\n",
        "    loss_values = train(model, device, train_loader, criterion, optimizer, epoch)\n",
        "    loss_history += loss_values"
      ]
    },
    {
      "cell_type": "code",
      "execution_count": null,
      "metadata": {
        "colab": {
          "base_uri": "https://localhost:8080/",
          "height": 448
        },
        "id": "V1VFBe_Y0Cxx",
        "outputId": "827f95b6-00a8-4aa2-95e2-f346c335fc78"
      },
      "outputs": [
        {
          "output_type": "execute_result",
          "data": {
            "text/plain": [
              "[<matplotlib.lines.Line2D at 0x7f2e0881a4a0>]"
            ]
          },
          "metadata": {},
          "execution_count": 10
        },
        {
          "output_type": "display_data",
          "data": {
            "text/plain": [
              "<Figure size 640x480 with 1 Axes>"
            ],
            "image/png": "[encoded data removed]"
          },
          "metadata": {}
        }
      ],
      "source": [
        "plt.plot(loss_history)"
      ]
    },
    {
      "cell_type": "markdown",
      "metadata": {
        "id": "jONlgxyaEwC6"
      },
      "source": [
        "### Evaluate the trained model"
      ]
    },
    {
      "cell_type": "code",
      "execution_count": null,
      "metadata": {
        "id": "izgtCdk5DV01"
      },
      "outputs": [],
      "source": [
        "def evaluate(model, device, test_loader):\n",
        "    model.eval()\n",
        "    total = 0.\n",
        "    ok = 0.\n",
        "    for batch_idx, sample_batched in enumerate(test_loader):\n",
        "        data = sample_batched['x'].float()\n",
        "        query = sample_batched['query'].float()\n",
        "        target = sample_batched['y'].numpy()\n",
        "        data, query = data.to(device), query.to(device)\n",
        "        \n",
        "        output = model(data, query)\n",
        "        pred = np.argmax(output.detach().cpu().numpy(), axis=1)\n",
        "       \n",
        "        ok += np.sum(pred == target)\n",
        "        total += len(test_loader)\n",
        "                \n",
        "    print('Accuracy = ', ok/total)"
      ]
    },
    {
      "cell_type": "code",
      "execution_count": null,
      "metadata": {
        "colab": {
          "base_uri": "https://localhost:8080/"
        },
        "id": "JYQGuAXpGNU7",
        "outputId": "b456b3c3-90a2-423c-9c4e-d7ab2e2ddf93"
      },
      "outputs": [
        {
          "output_type": "stream",
          "name": "stdout",
          "text": [
            "Accuracy =  78.26\n"
          ]
        }
      ],
      "source": [
        "evaluate(model, device, test_loader)"
      ]
    },
    {
      "cell_type": "markdown",
      "metadata": {
        "id": "CaOoDxjhhjxz"
      },
      "source": [
        "<font color=\"blue\">\n",
        "\n",
        "**EXERCISE 1**: Starting from the previous model as a template, implement the Dot-product Attention scoring function and substitute the additive one we were using before. Retrain and evalute the model.</font>\n",
        "\n",
        "<font color=\"blue\">\n",
        "\n",
        "> Hint: To transpose a tensor along specific dimensions you can use `torch.permute()`\n",
        "</font>\n",
        "\n",
        "\n",
        "<font color=\"blue\">\n",
        "\n",
        "> Hint: To perform a batch matrix-matrix product, use the function `torch.bmm()` https://pytorch.org/docs/stable/generated/torch.bmm.html \n",
        "</font>"
      ]
    },
    {
      "cell_type": "code",
      "source": [
        "!pip install icecream\n",
        "from icecream import ic"
      ],
      "metadata": {
        "colab": {
          "base_uri": "https://localhost:8080/"
        },
        "id": "VG1Hn8dz7PiG",
        "outputId": "0833dde5-aa98-4c66-8a7f-4bd9424e85d8"
      },
      "execution_count": null,
      "outputs": [
        {
          "output_type": "stream",
          "name": "stdout",
          "text": [
            "Looking in indexes: https://pypi.org/simple, https://us-python.pkg.dev/colab-wheels/public/simple/\n",
            "Collecting icecream\n",
            "  Downloading icecream-2.1.3-py2.py3-none-any.whl (8.4 kB)\n",
            "Collecting colorama>=0.3.9 (from icecream)\n",
            "  Downloading colorama-0.4.6-py2.py3-none-any.whl (25 kB)\n",
            "Requirement already satisfied: pygments>=2.2.0 in /usr/local/lib/python3.10/dist-packages (from icecream) (2.14.0)\n",
            "Collecting executing>=0.3.1 (from icecream)\n",
            "  Downloading executing-1.2.0-py2.py3-none-any.whl (24 kB)\n",
            "Collecting asttokens>=2.0.1 (from icecream)\n",
            "  Downloading asttokens-2.2.1-py2.py3-none-any.whl (26 kB)\n",
            "Requirement already satisfied: six in /usr/local/lib/python3.10/dist-packages (from asttokens>=2.0.1->icecream) (1.16.0)\n",
            "Installing collected packages: executing, colorama, asttokens, icecream\n",
            "Successfully installed asttokens-2.2.1 colorama-0.4.6 executing-1.2.0 icecream-2.1.3\n"
          ]
        }
      ]
    },
    {
      "cell_type": "code",
      "execution_count": null,
      "metadata": {
        "id": "3Jmz2AWuI95G"
      },
      "outputs": [],
      "source": [
        "class AttentionModel(nn.Module):\n",
        "    def __init__(self, input_dim, num_inputs, hidden_dim):\n",
        "        super(AttentionModel, self).__init__()\n",
        "        self.hidden_dim = hidden_dim\n",
        "        self.num_inputs = num_inputs\n",
        "        self.input_dim  = input_dim\n",
        "\n",
        "        # Weights (Fully Connected layers) \n",
        "        self.fc_q = nn.Linear(input_dim, hidden_dim) # Query FC\n",
        "        self.fc_k = nn.Linear(input_dim, hidden_dim) # Keys FC. Here the input acts as the keys, and there is no value\n",
        "        self.fc_v = nn.Linear(input_dim, 1) # Values FC\n",
        "\n",
        "    def scoringDotProduct(self,query,x):\n",
        "        # Repeat (tile) the query so that it has the same size as the keys (input)\n",
        "        query = torch.tanh(self.fc_q(query)) # (B X num_inputs X hidden_dim)                   \n",
        "        keys = torch.tanh(self.fc_k(x)) # (B X num_inputs X hidden_dim)\n",
        "        keys = keys.permute(0,2,1)\n",
        "        qK = torch.bmm(query,keys)\n",
        "        \n",
        "        #normalize QK\n",
        "        qK /= np.sqrt(self.hidden_dim)\n",
        "        \n",
        "        #weight the x vectorss with the qK \"attention\" weight values\n",
        "        qK = qK.permute(0,2,1)\n",
        "        attended_x = torch.mul(x,qK)\n",
        "        score = self.fc_v(attended_x) \n",
        "        #score = torch.tanh(score) #add some non linearity\n",
        "        return score\n",
        "\n",
        "    def forward(self, x, query):\n",
        "        query = query.unsqueeze(1) # (B x input_dim) -> (B x 1 x input_dim)\n",
        "        \n",
        "        # Calculate attention scores\n",
        "        output = self.scoringDotProduct(query, x)\n",
        "        output = output.squeeze()       # (B x 1 x num_inputs) -> (B x num_inputs)\n",
        "        return output"
      ]
    },
    {
      "cell_type": "code",
      "source": [
        "input_dim, num_inputs, hidden_dim = (784, 10, 256)\n",
        "\n",
        "model = AttentionModel(input_dim, num_inputs, hidden_dim)\n",
        "print(model)"
      ],
      "metadata": {
        "colab": {
          "base_uri": "https://localhost:8080/"
        },
        "id": "-y23sCPr50uF",
        "outputId": "4f9b69de-71c2-401c-f8b5-332f83782744"
      },
      "execution_count": null,
      "outputs": [
        {
          "output_type": "stream",
          "name": "stdout",
          "text": [
            "AttentionModel(\n",
            "  (fc_q): Linear(in_features=784, out_features=256, bias=True)\n",
            "  (fc_k): Linear(in_features=784, out_features=256, bias=True)\n",
            "  (fc_v): Linear(in_features=784, out_features=1, bias=True)\n",
            ")\n"
          ]
        }
      ]
    },
    {
      "cell_type": "code",
      "source": [
        "model = model.to(device)\n",
        "\n",
        "optimizer = optim.Adam(model.parameters())\n",
        "\n",
        "criterion = nn.CrossEntropyLoss()\n",
        "\n",
        "epochs = 10\n",
        "\n",
        "loss_history = []\n",
        "for epoch in range(1, epochs + 1):\n",
        "    loss_values = train(model, device, train_loader, criterion, optimizer, epoch)\n",
        "    loss_history += loss_values"
      ],
      "metadata": {
        "colab": {
          "base_uri": "https://localhost:8080/"
        },
        "id": "N96ACLLS5wDX",
        "outputId": "d2514e1b-d122-40c3-98e3-183e92ae9605"
      },
      "execution_count": null,
      "outputs": [
        {
          "output_type": "stream",
          "name": "stdout",
          "text": [
            "Train Epoch: 1 [0/60000 (0%)]\tLoss: 2.302456\n",
            "Train Epoch: 1 [6400/60000 (11%)]\tLoss: 1.410556\n",
            "Train Epoch: 1 [12800/60000 (21%)]\tLoss: 1.170299\n",
            "Train Epoch: 1 [19200/60000 (32%)]\tLoss: 1.270016\n",
            "Train Epoch: 1 [25600/60000 (43%)]\tLoss: 1.073678\n",
            "Train Epoch: 1 [32000/60000 (53%)]\tLoss: 1.044094\n",
            "Train Epoch: 1 [38400/60000 (64%)]\tLoss: 1.207860\n",
            "Train Epoch: 1 [44800/60000 (75%)]\tLoss: 0.780365\n",
            "Train Epoch: 1 [51200/60000 (85%)]\tLoss: 1.082951\n",
            "Train Epoch: 1 [57600/60000 (96%)]\tLoss: 0.907090\n",
            "Train Epoch: 2 [0/60000 (0%)]\tLoss: 0.963223\n",
            "Train Epoch: 2 [6400/60000 (11%)]\tLoss: 0.792492\n",
            "Train Epoch: 2 [12800/60000 (21%)]\tLoss: 0.750116\n",
            "Train Epoch: 2 [19200/60000 (32%)]\tLoss: 0.836094\n",
            "Train Epoch: 2 [25600/60000 (43%)]\tLoss: 0.880496\n",
            "Train Epoch: 2 [32000/60000 (53%)]\tLoss: 0.968782\n",
            "Train Epoch: 2 [38400/60000 (64%)]\tLoss: 0.707883\n",
            "Train Epoch: 2 [44800/60000 (75%)]\tLoss: 0.708716\n",
            "Train Epoch: 2 [51200/60000 (85%)]\tLoss: 0.804559\n",
            "Train Epoch: 2 [57600/60000 (96%)]\tLoss: 0.795675\n",
            "Train Epoch: 3 [0/60000 (0%)]\tLoss: 0.727859\n",
            "Train Epoch: 3 [6400/60000 (11%)]\tLoss: 0.774654\n",
            "Train Epoch: 3 [12800/60000 (21%)]\tLoss: 0.649498\n",
            "Train Epoch: 3 [19200/60000 (32%)]\tLoss: 0.862508\n",
            "Train Epoch: 3 [25600/60000 (43%)]\tLoss: 0.586648\n",
            "Train Epoch: 3 [32000/60000 (53%)]\tLoss: 0.487035\n",
            "Train Epoch: 3 [38400/60000 (64%)]\tLoss: 0.753996\n",
            "Train Epoch: 3 [44800/60000 (75%)]\tLoss: 0.836764\n",
            "Train Epoch: 3 [51200/60000 (85%)]\tLoss: 0.651901\n",
            "Train Epoch: 3 [57600/60000 (96%)]\tLoss: 0.506265\n",
            "Train Epoch: 4 [0/60000 (0%)]\tLoss: 0.547142\n",
            "Train Epoch: 4 [6400/60000 (11%)]\tLoss: 0.916437\n",
            "Train Epoch: 4 [12800/60000 (21%)]\tLoss: 0.829360\n",
            "Train Epoch: 4 [19200/60000 (32%)]\tLoss: 0.573188\n",
            "Train Epoch: 4 [25600/60000 (43%)]\tLoss: 0.702584\n",
            "Train Epoch: 4 [32000/60000 (53%)]\tLoss: 0.601872\n",
            "Train Epoch: 4 [38400/60000 (64%)]\tLoss: 0.966159\n",
            "Train Epoch: 4 [44800/60000 (75%)]\tLoss: 0.595199\n",
            "Train Epoch: 4 [51200/60000 (85%)]\tLoss: 1.067213\n",
            "Train Epoch: 4 [57600/60000 (96%)]\tLoss: 0.758201\n",
            "Train Epoch: 5 [0/60000 (0%)]\tLoss: 0.677507\n",
            "Train Epoch: 5 [6400/60000 (11%)]\tLoss: 0.777756\n",
            "Train Epoch: 5 [12800/60000 (21%)]\tLoss: 0.654293\n",
            "Train Epoch: 5 [19200/60000 (32%)]\tLoss: 0.930451\n",
            "Train Epoch: 5 [25600/60000 (43%)]\tLoss: 0.588583\n",
            "Train Epoch: 5 [32000/60000 (53%)]\tLoss: 0.672631\n",
            "Train Epoch: 5 [38400/60000 (64%)]\tLoss: 0.613807\n",
            "Train Epoch: 5 [44800/60000 (75%)]\tLoss: 0.834662\n",
            "Train Epoch: 5 [51200/60000 (85%)]\tLoss: 0.678280\n",
            "Train Epoch: 5 [57600/60000 (96%)]\tLoss: 0.543324\n",
            "Train Epoch: 6 [0/60000 (0%)]\tLoss: 0.456580\n",
            "Train Epoch: 6 [6400/60000 (11%)]\tLoss: 0.730366\n",
            "Train Epoch: 6 [12800/60000 (21%)]\tLoss: 0.438624\n",
            "Train Epoch: 6 [19200/60000 (32%)]\tLoss: 0.742066\n",
            "Train Epoch: 6 [25600/60000 (43%)]\tLoss: 0.700677\n",
            "Train Epoch: 6 [32000/60000 (53%)]\tLoss: 0.693954\n",
            "Train Epoch: 6 [38400/60000 (64%)]\tLoss: 0.846989\n",
            "Train Epoch: 6 [44800/60000 (75%)]\tLoss: 1.034704\n",
            "Train Epoch: 6 [51200/60000 (85%)]\tLoss: 0.706841\n",
            "Train Epoch: 6 [57600/60000 (96%)]\tLoss: 0.548103\n",
            "Train Epoch: 7 [0/60000 (0%)]\tLoss: 0.478654\n",
            "Train Epoch: 7 [6400/60000 (11%)]\tLoss: 0.463524\n",
            "Train Epoch: 7 [12800/60000 (21%)]\tLoss: 0.445441\n",
            "Train Epoch: 7 [19200/60000 (32%)]\tLoss: 0.492823\n",
            "Train Epoch: 7 [25600/60000 (43%)]\tLoss: 0.463808\n",
            "Train Epoch: 7 [32000/60000 (53%)]\tLoss: 0.596098\n",
            "Train Epoch: 7 [38400/60000 (64%)]\tLoss: 0.561618\n",
            "Train Epoch: 7 [44800/60000 (75%)]\tLoss: 0.492366\n",
            "Train Epoch: 7 [51200/60000 (85%)]\tLoss: 0.547136\n",
            "Train Epoch: 7 [57600/60000 (96%)]\tLoss: 0.735320\n",
            "Train Epoch: 8 [0/60000 (0%)]\tLoss: 0.494908\n",
            "Train Epoch: 8 [6400/60000 (11%)]\tLoss: 0.683898\n",
            "Train Epoch: 8 [12800/60000 (21%)]\tLoss: 0.509861\n",
            "Train Epoch: 8 [19200/60000 (32%)]\tLoss: 0.569288\n",
            "Train Epoch: 8 [25600/60000 (43%)]\tLoss: 1.072425\n",
            "Train Epoch: 8 [32000/60000 (53%)]\tLoss: 0.565515\n",
            "Train Epoch: 8 [38400/60000 (64%)]\tLoss: 0.920256\n",
            "Train Epoch: 8 [44800/60000 (75%)]\tLoss: 0.727080\n",
            "Train Epoch: 8 [51200/60000 (85%)]\tLoss: 0.544385\n",
            "Train Epoch: 8 [57600/60000 (96%)]\tLoss: 0.646871\n",
            "Train Epoch: 9 [0/60000 (0%)]\tLoss: 0.834657\n",
            "Train Epoch: 9 [6400/60000 (11%)]\tLoss: 0.438587\n",
            "Train Epoch: 9 [12800/60000 (21%)]\tLoss: 0.607542\n",
            "Train Epoch: 9 [19200/60000 (32%)]\tLoss: 0.328388\n",
            "Train Epoch: 9 [25600/60000 (43%)]\tLoss: 0.577790\n",
            "Train Epoch: 9 [32000/60000 (53%)]\tLoss: 0.423051\n",
            "Train Epoch: 9 [38400/60000 (64%)]\tLoss: 0.567784\n",
            "Train Epoch: 9 [44800/60000 (75%)]\tLoss: 0.497978\n",
            "Train Epoch: 9 [51200/60000 (85%)]\tLoss: 0.814244\n",
            "Train Epoch: 9 [57600/60000 (96%)]\tLoss: 0.555899\n",
            "Train Epoch: 10 [0/60000 (0%)]\tLoss: 0.759806\n",
            "Train Epoch: 10 [6400/60000 (11%)]\tLoss: 0.624230\n",
            "Train Epoch: 10 [12800/60000 (21%)]\tLoss: 0.483718\n",
            "Train Epoch: 10 [19200/60000 (32%)]\tLoss: 0.612916\n",
            "Train Epoch: 10 [25600/60000 (43%)]\tLoss: 0.905739\n",
            "Train Epoch: 10 [32000/60000 (53%)]\tLoss: 0.521177\n",
            "Train Epoch: 10 [38400/60000 (64%)]\tLoss: 0.512260\n",
            "Train Epoch: 10 [44800/60000 (75%)]\tLoss: 0.623927\n",
            "Train Epoch: 10 [51200/60000 (85%)]\tLoss: 0.548468\n",
            "Train Epoch: 10 [57600/60000 (96%)]\tLoss: 0.588473\n"
          ]
        }
      ]
    },
    {
      "cell_type": "code",
      "source": [
        "plt.plot(loss_history)"
      ],
      "metadata": {
        "colab": {
          "base_uri": "https://localhost:8080/",
          "height": 448
        },
        "id": "pKbH233QIGFn",
        "outputId": "edf373e0-c8fc-4525-d894-d6b68a6ae67f"
      },
      "execution_count": null,
      "outputs": [
        {
          "output_type": "execute_result",
          "data": {
            "text/plain": [
              "[<matplotlib.lines.Line2D at 0x7f2da9b1a920>]"
            ]
          },
          "metadata": {},
          "execution_count": 151
        },
        {
          "output_type": "display_data",
          "data": {
            "text/plain": [
              "<Figure size 640x480 with 1 Axes>"
            ],
            "image/png": "[encoded data removed]"
          },
          "metadata": {}
        }
      ]
    },
    {
      "cell_type": "code",
      "source": [
        "evaluate(model, device, test_loader)"
      ],
      "metadata": {
        "colab": {
          "base_uri": "https://localhost:8080/"
        },
        "id": "Pty6WF9rHbVm",
        "outputId": "1f481bc0-8cbe-42ae-9df2-ae63efedef8c"
      },
      "execution_count": null,
      "outputs": [
        {
          "output_type": "stream",
          "name": "stdout",
          "text": [
            "Accuracy =  83.49\n"
          ]
        }
      ]
    },
    {
      "cell_type": "markdown",
      "source": [
        "Althought the loss of this model is already very jumpy the model converges much faster (or at least the loss decreases faster) and we can see that with the dot product similariy measure the accuracy greatly improves."
      ],
      "metadata": {
        "id": "ZGqvvgdpJfaE"
      }
    }
  ],
  "metadata": {
    "accelerator": "GPU",
    "colab": {
      "provenance": [],
      "gpuType": "T4"
    },
    "kernelspec": {
      "display_name": "Python 3.10.9 ('ML')",
      "language": "python",
      "name": "python3"
    },
    "language_info": {
      "codemirror_mode": {
        "name": "ipython",
        "version": 3
      },
      "file_extension": ".py",
      "mimetype": "text/x-python",
      "name": "python",
      "nbconvert_exporter": "python",
      "pygments_lexer": "ipython3",
      "version": "3.10.9"
    },
    "vscode": {
      "interpreter": {
        "hash": "da600ade1a771c82ddf6d22a5a41f856afbf3528a3611e1c80e3ac6da17c9450"
      }
    },
    "gpuClass": "standard"
  },
  "nbformat": 4,
  "nbformat_minor": 0
}